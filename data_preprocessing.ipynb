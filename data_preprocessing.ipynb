{
 "cells": [
  {
   "cell_type": "code",
   "execution_count": 34,
   "metadata": {},
   "outputs": [],
   "source": [
    "import pandas as pd\n",
    "import seaborn as sns\n",
    "import matplotlib.pyplot as plt\n",
    "from sklearn.model_selection import train_test_split, cross_val_score\n",
    "from sklearn.ensemble import RandomForestRegressor, GradientBoostingRegressor\n",
    "from xgboost import XGBRegressor\n",
    "from sklearn.metrics import mean_absolute_error, mean_squared_error\n",
    "import numpy as np\n",
    "from sklearn.model_selection import GridSearchCV\n",
    "from sklearn.ensemble import GradientBoostingRegressor\n",
    "import joblib\n",
    "\n"
   ]
  },
  {
   "cell_type": "code",
   "execution_count": 35,
   "metadata": {},
   "outputs": [
    {
     "name": "stderr",
     "output_type": "stream",
     "text": [
      "C:\\Users\\user\\AppData\\Local\\Temp\\ipykernel_6020\\229798582.py:2: DtypeWarning: Columns (108) have mixed types. Specify dtype option on import or set low_memory=False.\n",
      "  train_data = pd.read_csv('male_players (legacy).csv')\n",
      "C:\\Users\\user\\AppData\\Local\\Temp\\ipykernel_6020\\229798582.py:3: DtypeWarning: Columns (25,108) have mixed types. Specify dtype option on import or set low_memory=False.\n",
      "  test_data = pd.read_csv('players_22.csv')\n"
     ]
    }
   ],
   "source": [
    "# Load the datasets\n",
    "train_data = pd.read_csv('male_players (legacy).csv')\n",
    "test_data = pd.read_csv('players_22.csv')\n",
    "\n"
   ]
  },
  {
   "cell_type": "code",
   "execution_count": 36,
   "metadata": {},
   "outputs": [
    {
     "name": "stdout",
     "output_type": "stream",
     "text": [
      "Index(['player_id', 'player_url', 'fifa_version', 'fifa_update',\n",
      "       'fifa_update_date', 'short_name', 'long_name', 'player_positions',\n",
      "       'overall', 'potential',\n",
      "       ...\n",
      "       'cdm', 'rdm', 'rwb', 'lb', 'lcb', 'cb', 'rcb', 'rb', 'gk',\n",
      "       'player_face_url'],\n",
      "      dtype='object', length=110)\n"
     ]
    }
   ],
   "source": [
    "# Inspect column names\n",
    "print(train_data.columns)\n"
   ]
  },
  {
   "cell_type": "code",
   "execution_count": 37,
   "metadata": {},
   "outputs": [
    {
     "name": "stdout",
     "output_type": "stream",
     "text": [
      "   player_id                                        player_url  fifa_version  \\\n",
      "0     158023                /player/158023/lionel-messi/150002            15   \n",
      "1      20801  /player/20801/c-ronaldo-dos-santos-aveiro/150002            15   \n",
      "2       9014                  /player/9014/arjen-robben/150002            15   \n",
      "3      41236           /player/41236/zlatan-ibrahimovic/150002            15   \n",
      "4     167495                /player/167495/manuel-neuer/150002            15   \n",
      "\n",
      "   fifa_update fifa_update_date         short_name  \\\n",
      "0            2        9/18/2014           L. Messi   \n",
      "1            2        9/18/2014  Cristiano Ronaldo   \n",
      "2            2        9/18/2014          A. Robben   \n",
      "3            2        9/18/2014     Z. Ibrahimović   \n",
      "4            2        9/18/2014           M. Neuer   \n",
      "\n",
      "                             long_name player_positions  overall  potential  \\\n",
      "0       Lionel Andrés Messi Cuccittini               CF       93         95   \n",
      "1  Cristiano Ronaldo dos Santos Aveiro           LW, LM       92         92   \n",
      "2                         Arjen Robben       RM, LM, RW       90         90   \n",
      "3                   Zlatan Ibrahimović               ST       90         90   \n",
      "4                   Manuel Peter Neuer               GK       90         90   \n",
      "\n",
      "   ...   cdm   rdm   rwb    lb   lcb    cb   rcb    rb    gk  \\\n",
      "0  ...  62+3  62+3  62+3  54+3  45+3  45+3  45+3  54+3  15+3   \n",
      "1  ...  63+3  63+3  63+3  57+3  52+3  52+3  52+3  57+3  16+3   \n",
      "2  ...  64+3  64+3  64+3  55+3  46+3  46+3  46+3  55+3  14+3   \n",
      "3  ...  65+3  65+3  61+3  56+3  55+3  55+3  55+3  56+3  17+3   \n",
      "4  ...  40+3  40+3  36+3  36+3  38+3  38+3  38+3  36+3  87+3   \n",
      "\n",
      "                                     player_face_url  \n",
      "0  https://cdn.sofifa.net/players/158/023/15_120.png  \n",
      "1  https://cdn.sofifa.net/players/020/801/15_120.png  \n",
      "2  https://cdn.sofifa.net/players/009/014/15_120.png  \n",
      "3  https://cdn.sofifa.net/players/041/236/15_120.png  \n",
      "4  https://cdn.sofifa.net/players/167/495/15_120.png  \n",
      "\n",
      "[5 rows x 110 columns]\n"
     ]
    }
   ],
   "source": [
    "# Display the first few rows to confirm the column names\n",
    "print(train_data.head())\n"
   ]
  },
  {
   "cell_type": "code",
   "execution_count": 38,
   "metadata": {},
   "outputs": [
    {
     "data": {
      "image/png": "[encoded data removed]",
      "text/plain": [
       "<Figure size 640x480 with 1 Axes>"
      ]
     },
     "metadata": {},
     "output_type": "display_data"
    }
   ],
   "source": [
    "# Plot histogram for the 'overall' column\n",
    "sns.histplot(train_data['overall'])\n",
    "plt.show()\n"
   ]
  },
  {
   "cell_type": "code",
   "execution_count": 39,
   "metadata": {},
   "outputs": [],
   "source": [
    "# List of columns to be removed if they exist\n",
    "irrelevant_columns = ['player_id', 'player_url', 'short_name', 'long_name', 'player_face_url', 'fifa_version', 'fifa_update', 'fifa_update_date']\n",
    "\n",
    "# Drop irrelevant columns from train_data if they exist\n",
    "train_data = train_data.drop(columns=[col for col in irrelevant_columns if col in train_data.columns])\n",
    "\n",
    "# Drop irrelevant columns from test_data if they exist\n",
    "test_data = test_data.drop(columns=[col for col in irrelevant_columns if col in test_data.columns])\n"
   ]
  },
  {
   "cell_type": "code",
   "execution_count": 40,
   "metadata": {},
   "outputs": [],
   "source": [
    "# Align test_data with train_data columns\n",
    "test_data = test_data.reindex(columns=train_data.columns)\n"
   ]
  },
  {
   "cell_type": "code",
   "execution_count": 41,
   "metadata": {},
   "outputs": [],
   "source": [
    "# Fill missing values only for numeric columns\n",
    "numeric_cols = train_data.select_dtypes(include=['number']).columns\n",
    "train_data[numeric_cols] = train_data[numeric_cols].fillna(train_data[numeric_cols].mean())\n",
    "test_data[numeric_cols] = test_data[numeric_cols].fillna(train_data[numeric_cols].mean())\n"
   ]
  },
  {
   "cell_type": "code",
   "execution_count": 42,
   "metadata": {},
   "outputs": [
    {
     "name": "stdout",
     "output_type": "stream",
     "text": [
      "  player_positions  overall  potential    value_eur  wage_eur  age        dob  \\\n",
      "0               CF       93         95  100500000.0  550000.0   27  6/24/1987   \n",
      "1           LW, LM       92         92   79000000.0  375000.0   29   2/5/1985   \n",
      "2       RM, LM, RW       90         90   54500000.0  275000.0   30  1/23/1984   \n",
      "3               ST       90         90   52500000.0  275000.0   32  10/3/1981   \n",
      "4               GK       90         90   63500000.0  300000.0   28  3/27/1986   \n",
      "\n",
      "   height_cm  weight_kg  league_id  ...   ldm   cdm   rdm   rwb    lb   lcb  \\\n",
      "0        169         67       53.0  ...  62+3  62+3  62+3  62+3  54+3  45+3   \n",
      "1        185         80       53.0  ...  63+3  63+3  63+3  63+3  57+3  52+3   \n",
      "2        180         80       19.0  ...  64+3  64+3  64+3  64+3  55+3  46+3   \n",
      "3        195         95       16.0  ...  65+3  65+3  65+3  61+3  56+3  55+3   \n",
      "4        193         92       19.0  ...  40+3  40+3  40+3  36+3  36+3  38+3   \n",
      "\n",
      "     cb   rcb    rb    gk  \n",
      "0  45+3  45+3  54+3  15+3  \n",
      "1  52+3  52+3  57+3  16+3  \n",
      "2  46+3  46+3  55+3  14+3  \n",
      "3  55+3  55+3  56+3  17+3  \n",
      "4  38+3  38+3  36+3  87+3  \n",
      "\n",
      "[5 rows x 102 columns]\n",
      "  player_positions  overall  potential    value_eur  wage_eur  age  \\\n",
      "0       RW, ST, CF       93         93   78000000.0  320000.0   34   \n",
      "1               ST       92         92  119500000.0  270000.0   32   \n",
      "2           ST, LW       91         91   45000000.0  270000.0   36   \n",
      "3          LW, CAM       91         91  129000000.0  270000.0   29   \n",
      "4          CM, CAM       91         91  125500000.0  350000.0   30   \n",
      "\n",
      "          dob  height_cm  weight_kg   league_id  ...   ldm   cdm   rdm   rwb  \\\n",
      "0  1987-06-24        170         72  210.409017  ...  64+3  64+3  64+3  66+3   \n",
      "1  1988-08-21        185         81  210.409017  ...  66+3  66+3  66+3  64+3   \n",
      "2  1985-02-05        187         83  210.409017  ...  59+3  59+3  59+3  63+3   \n",
      "3  1992-02-05        175         68  210.409017  ...  63+3  63+3  63+3  67+3   \n",
      "4  1991-06-28        181         70  210.409017  ...  80+3  80+3  80+3  79+3   \n",
      "\n",
      "     lb   lcb    cb   rcb    rb    gk  \n",
      "0  61+3  50+3  50+3  50+3  61+3  19+3  \n",
      "1  61+3  60+3  60+3  60+3  61+3  19+3  \n",
      "2  60+3  53+3  53+3  53+3  60+3  20+3  \n",
      "3  62+3  50+3  50+3  50+3  62+3  20+3  \n",
      "4  75+3  69+3  69+3  69+3  75+3  21+3  \n",
      "\n",
      "[5 rows x 102 columns]\n"
     ]
    }
   ],
   "source": [
    "# Display the cleaned datasets\n",
    "print(train_data.head())\n",
    "print(test_data.head())"
   ]
  },
  {
   "cell_type": "code",
   "execution_count": 43,
   "metadata": {},
   "outputs": [
    {
     "name": "stdout",
     "output_type": "stream",
     "text": [
      "Index(['overall', 'potential', 'value_eur', 'wage_eur', 'passing', 'dribbling',\n",
      "       'movement_reactions', 'mentality_composure'],\n",
      "      dtype='object')\n"
     ]
    }
   ],
   "source": [
    "\n",
    "# Select only numeric columns for correlation calculation\n",
    "numeric_cols = train_data.select_dtypes(include=[np.number]).columns\n",
    "numeric_train_data = train_data[numeric_cols]\n",
    "\n",
    "# Calculate correlation matrix\n",
    "correlation_matrix = numeric_train_data.corr()\n",
    "\n",
    "# Select features with high correlation to 'overall'\n",
    "high_corr_features = correlation_matrix.index[abs(correlation_matrix['overall']) > 0.5]\n",
    "print(high_corr_features)\n",
    "\n",
    "# Create a new dataset with these features\n",
    "train_data_high_corr = train_data[high_corr_features]\n",
    "test_data_high_corr = test_data[high_corr_features]\n"
   ]
  },
  {
   "cell_type": "code",
   "execution_count": 44,
   "metadata": {},
   "outputs": [
    {
     "name": "stdout",
     "output_type": "stream",
     "text": [
      "RandomForest CV RMSE: 1.827723994235713\n",
      "XGBoost CV RMSE: 1.9107077409469795\n",
      "GradientBoost CV RMSE: 1.957602483344403\n",
      "Test MAE: 1.4966856401069126\n",
      "Test RMSE: 1.9547507082953233\n"
     ]
    }
   ],
   "source": [
    "\n",
    "\n",
    "# Split data into features and target\n",
    "X_train = train_data_high_corr.drop(columns=['overall'])\n",
    "y_train = train_data_high_corr['overall']\n",
    "X_test = test_data_high_corr.drop(columns=['overall'])\n",
    "y_test = test_data_high_corr['overall']\n",
    "\n",
    "# Initialize models\n",
    "models = {\n",
    "    'RandomForest': RandomForestRegressor(n_estimators=100, random_state=42),\n",
    "    'XGBoost': XGBRegressor(n_estimators=100, random_state=42),\n",
    "    'GradientBoost': GradientBoostingRegressor(n_estimators=100, random_state=42)\n",
    "}\n",
    "\n",
    "# Evaluate models with cross-validation\n",
    "for name, model in models.items():\n",
    "    cv_scores = cross_val_score(model, X_train, y_train, cv=5, scoring='neg_mean_squared_error')\n",
    "    print(f'{name} CV RMSE: {np.sqrt(-cv_scores).mean()}')\n",
    "\n",
    "# Train and evaluate the best model\n",
    "best_model = GradientBoostingRegressor(n_estimators=100, random_state=42)\n",
    "best_model.fit(X_train, y_train)\n",
    "y_pred = best_model.predict(X_test)\n",
    "print(f'Test MAE: {mean_absolute_error(y_test, y_pred)}')\n",
    "print(f'Test RMSE: {np.sqrt(mean_squared_error(y_test, y_pred))}')\n"
   ]
  },
  {
   "cell_type": "code",
   "execution_count": 45,
   "metadata": {},
   "outputs": [
    {
     "name": "stdout",
     "output_type": "stream",
     "text": [
      "Fitting 5 folds for each of 27 candidates, totalling 135 fits\n",
      "Best parameters: {'learning_rate': 0.05, 'max_depth': 7, 'n_estimators': 150}\n",
      "Best CV RMSE: 1.8203322351315923\n"
     ]
    }
   ],
   "source": [
    "# Define parameter grid\n",
    "param_grid = {\n",
    "    'n_estimators': [50, 100, 150],\n",
    "    'learning_rate': [0.1, 0.05, 0.01],\n",
    "    'max_depth': [3, 5, 7]\n",
    "}\n",
    "\n",
    "# Initialize GridSearchCV\n",
    "grid_search = GridSearchCV(estimator=GradientBoostingRegressor(random_state=42),\n",
    "                           param_grid=param_grid,\n",
    "                           scoring='neg_mean_squared_error',\n",
    "                           cv=5,\n",
    "                           verbose=1,\n",
    "                           n_jobs=-1)\n",
    "\n",
    "# Fit GridSearchCV\n",
    "grid_search.fit(X_train, y_train)\n",
    "\n",
    "# Print best parameters and best score\n",
    "print(f'Best parameters: {grid_search.best_params_}')\n",
    "print(f'Best CV RMSE: {np.sqrt(-grid_search.best_score_)}')\n"
   ]
  },
  {
   "cell_type": "code",
   "execution_count": 46,
   "metadata": {},
   "outputs": [
    {
     "data": {
      "text/plain": [
       "['best_model.pkl']"
      ]
     },
     "execution_count": 46,
     "metadata": {},
     "output_type": "execute_result"
    }
   ],
   "source": [
    "# Assume X_train, y_train are already defined from your dataset\n",
    "# Initialize and train your model\n",
    "model = GradientBoostingRegressor(n_estimators=100, random_state=42)\n",
    "model.fit(X_train, y_train)\n",
    "\n",
    "# Save the trained model to a file named 'best_model.pkl'\n",
    "joblib.dump(model, 'best_model.pkl')\n"
   ]
  },
  {
   "cell_type": "code",
   "execution_count": null,
   "metadata": {},
   "outputs": [],
   "source": []
  }
 ],
 "metadata": {
  "kernelspec": {
   "display_name": "Python 3",
   "language": "python",
   "name": "python3"
  },
  "language_info": {
   "name": "python",
   "version": "3.12.2"
  }
 },
 "nbformat": 4,
 "nbformat_minor": 2
}
